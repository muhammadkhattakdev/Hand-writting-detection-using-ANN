{
 "cells": [
  {
   "cell_type": "code",
   "execution_count": null,
   "id": "d4a9b810-a593-42af-9211-fb57d38fdb58",
   "metadata": {},
   "outputs": [],
   "source": []
  }
 ],
 "metadata": {
  "kernelspec": {
   "display_name": "",
   "name": ""
  },
  "language_info": {
   "name": ""
  }
 },
 "nbformat": 4,
 "nbformat_minor": 5
}
